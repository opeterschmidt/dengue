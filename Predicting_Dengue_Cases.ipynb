{
 "cells": [
  {
   "cell_type": "code",
   "execution_count": 1,
   "metadata": {
    "id": "3Bk9uiNZEuOz"
   },
   "outputs": [
    {
     "name": "stderr",
     "output_type": "stream",
     "text": [
      "/opt/anaconda3/lib/python3.9/site-packages/xgboost/compat.py:36: FutureWarning: pandas.Int64Index is deprecated and will be removed from pandas in a future version. Use pandas.Index with the appropriate dtype instead.\n",
      "  from pandas import MultiIndex, Int64Index\n"
     ]
    }
   ],
   "source": [
    "import pandas as pd\n",
    "import numpy as np\n",
    "import matplotlib.pyplot as plt\n",
    "\n",
    "# Models\n",
    "from sklearn.linear_model import Ridge, LinearRegression\n",
    "from sklearn.ensemble import RandomForestRegressor\n",
    "from xgboost import XGBRegressor\n",
    "from sklearn.model_selection import RandomizedSearchCV\n",
    "\n",
    "# Metrics and other evaluators\n",
    "from sklearn.metrics import mean_absolute_error, r2_score, mean_squared_error\n",
    "from sklearn.inspection import permutation_importance\n",
    "\n",
    "# Pipeline and related\n",
    "from sklearn.pipeline import make_pipeline\n",
    "from sklearn.impute import SimpleImputer\n",
    "from sklearn.preprocessing import StandardScaler\n",
    "\n"
   ]
  },
  {
   "cell_type": "markdown",
   "metadata": {
    "id": "O7n4qyNtKvny"
   },
   "source": [
    "## Data source\n",
    "\n",
    "https://www.drivendata.org/competitions/44/dengai-predicting-disease-spread/page/82/\n",
    "\n",
    "Includes feature descriptions, which informed some of my wrangling decisions (eg, dropping the \"station\" features)"
   ]
  },
  {
   "cell_type": "markdown",
   "metadata": {
    "id": "vR-kbbv2LG09"
   },
   "source": [
    "You are provided the following set of information on a (`year, weekofyear`) timescale:\n",
    "\n",
    "(Where appropriate, units are provided as a `_unit` suffix on the feature name.)\n",
    "\n",
    "*City and date indicators*\n",
    "* `city` – City abbreviations: sj for San Juan and iq for Iquitos\n",
    "* `week_start_date` – Date given in yyyy-mm-dd format\n",
    "\n",
    "*NOAA's GHCN daily climate data weather station measurements*\n",
    "* `station_max_temp_c` – Maximum temperature\n",
    "* `station_min_temp_c` – Minimum temperature\n",
    "* `station_avg_temp_c` – Average temperature\n",
    "* `station_precip_mm` – Total precipitation\n",
    "* `station_diur_temp_rng_c` – Diurnal temperature range\n",
    "\n",
    "*PERSIANN satellite precipitation measurements (0.25x0.25 degree scale)*\n",
    "* `precipitation_amt_mm` – Total precipitation\n",
    "\n",
    "*NOAA's NCEP Climate Forecast System Reanalysis measurements (0.5x0.5 degree scale)*\n",
    "* `reanalysis_sat_precip_amt_mm` – Total precipitation\n",
    "* `reanalysis_dew_point_temp_k` – Mean dew point temperature\n",
    "* `reanalysis_air_temp_k` – Mean air temperature\n",
    "* `reanalysis_relative_humidity_percent` – Mean relative humidity\n",
    "* `reanalysis_specific_humidity_g_per_kg` – Mean specific humidity\n",
    "* `reanalysis_precip_amt_kg_per_m2` – Total precipitation\n",
    "* `reanalysis_max_air_temp_k` – Maximum air temperature\n",
    "* `reanalysis_min_air_temp_k` – Minimum air temperature\n",
    "* `reanalysis_avg_temp_k` – Average air temperature\n",
    "* `reanalysis_tdtr_k` – Diurnal temperature range\n",
    "\n",
    "*Satellite vegetation - Normalized difference vegetation index (NDVI) - NOAA's CDR Normalized Difference Vegetation Index (0.5x0.5 degree scale) measurements*\n",
    "* `ndvi_se` – Pixel southeast of city centroid\n",
    "* `ndvi_sw` – Pixel southwest of city centroid\n",
    "* `ndvi_ne` – Pixel northeast of city centroid\n",
    "* `ndvi_nw` – Pixel northwest of city centroid"
   ]
  },
  {
   "cell_type": "markdown",
   "metadata": {
    "id": "sNkDL-s_Fal-"
   },
   "source": [
    "## Import Data"
   ]
  },
  {
   "cell_type": "code",
   "execution_count": 2,
   "metadata": {},
   "outputs": [
    {
     "name": "stdout",
     "output_type": "stream",
     "text": [
      "/Users/localadmin/Documents/BloomTech/Unit_2/Datasets/Dengue\n"
     ]
    }
   ],
   "source": [
    "cd /Users/localadmin/Documents/BloomTech/Unit_2/Datasets/Dengue"
   ]
  },
  {
   "cell_type": "code",
   "execution_count": 3,
   "metadata": {},
   "outputs": [
    {
     "name": "stdout",
     "output_type": "stream",
     "text": [
      "dengue_features_test.csv   dengue_labels_train.csv\n",
      "dengue_features_train.csv\n"
     ]
    }
   ],
   "source": [
    "ls"
   ]
  },
  {
   "cell_type": "markdown",
   "metadata": {
    "id": "GV-cUG8pGLtR"
   },
   "source": [
    "## Preliminary EDA"
   ]
  },
  {
   "cell_type": "markdown",
   "metadata": {
    "id": "oATUdRGOGN4G"
   },
   "source": [
    "Exploring the original data to figure out how it should be wrangled. Looking for issues such as:\n",
    "\n",
    "*   Constant columns\n",
    "*   High cardinality categoricals\n",
    "* Date time info\n",
    "* Redundant/correlated columns\n",
    "* Null values\n",
    "* Distribution of target feature (total_cases)\n",
    "* Etc"
   ]
  },
  {
   "cell_type": "code",
   "execution_count": 52,
   "metadata": {
    "id": "kFCGugnjIxOx"
   },
   "outputs": [],
   "source": [
    "df = pd.merge(pd.read_csv(\"dengue_features_train.csv\", parse_dates = True), \n",
    "              pd.read_csv(\"dengue_labels_train.csv\", parse_dates = True))\n",
    "df.set_index(\"week_start_date\", inplace = True) # set start date as index\n",
    "df.sort_index(inplace=True)"
   ]
  },
  {
   "cell_type": "code",
   "execution_count": 53,
   "metadata": {
    "colab": {
     "base_uri": "https://localhost:8080/",
     "height": 331
    },
    "id": "Qbg-Hv_ZOlOp",
    "outputId": "7027fcfe-5e98-489b-b94c-427472249a6d"
   },
   "outputs": [
    {
     "data": {
      "text/html": [
       "<div>\n",
       "<style scoped>\n",
       "    .dataframe tbody tr th:only-of-type {\n",
       "        vertical-align: middle;\n",
       "    }\n",
       "\n",
       "    .dataframe tbody tr th {\n",
       "        vertical-align: top;\n",
       "    }\n",
       "\n",
       "    .dataframe thead th {\n",
       "        text-align: right;\n",
       "    }\n",
       "</style>\n",
       "<table border=\"1\" class=\"dataframe\">\n",
       "  <thead>\n",
       "    <tr style=\"text-align: right;\">\n",
       "      <th></th>\n",
       "      <th>city</th>\n",
       "      <th>year</th>\n",
       "      <th>weekofyear</th>\n",
       "      <th>ndvi_ne</th>\n",
       "      <th>ndvi_nw</th>\n",
       "      <th>ndvi_se</th>\n",
       "      <th>ndvi_sw</th>\n",
       "      <th>precipitation_amt_mm</th>\n",
       "      <th>reanalysis_air_temp_k</th>\n",
       "      <th>reanalysis_avg_temp_k</th>\n",
       "      <th>...</th>\n",
       "      <th>reanalysis_relative_humidity_percent</th>\n",
       "      <th>reanalysis_sat_precip_amt_mm</th>\n",
       "      <th>reanalysis_specific_humidity_g_per_kg</th>\n",
       "      <th>reanalysis_tdtr_k</th>\n",
       "      <th>station_avg_temp_c</th>\n",
       "      <th>station_diur_temp_rng_c</th>\n",
       "      <th>station_max_temp_c</th>\n",
       "      <th>station_min_temp_c</th>\n",
       "      <th>station_precip_mm</th>\n",
       "      <th>total_cases</th>\n",
       "    </tr>\n",
       "    <tr>\n",
       "      <th>week_start_date</th>\n",
       "      <th></th>\n",
       "      <th></th>\n",
       "      <th></th>\n",
       "      <th></th>\n",
       "      <th></th>\n",
       "      <th></th>\n",
       "      <th></th>\n",
       "      <th></th>\n",
       "      <th></th>\n",
       "      <th></th>\n",
       "      <th></th>\n",
       "      <th></th>\n",
       "      <th></th>\n",
       "      <th></th>\n",
       "      <th></th>\n",
       "      <th></th>\n",
       "      <th></th>\n",
       "      <th></th>\n",
       "      <th></th>\n",
       "      <th></th>\n",
       "      <th></th>\n",
       "    </tr>\n",
       "  </thead>\n",
       "  <tbody>\n",
       "    <tr>\n",
       "      <th>1990-04-30</th>\n",
       "      <td>sj</td>\n",
       "      <td>1990</td>\n",
       "      <td>18</td>\n",
       "      <td>0.122600</td>\n",
       "      <td>0.103725</td>\n",
       "      <td>0.198483</td>\n",
       "      <td>0.177617</td>\n",
       "      <td>12.42</td>\n",
       "      <td>297.572857</td>\n",
       "      <td>297.742857</td>\n",
       "      <td>...</td>\n",
       "      <td>73.365714</td>\n",
       "      <td>12.42</td>\n",
       "      <td>14.012857</td>\n",
       "      <td>2.628571</td>\n",
       "      <td>25.442857</td>\n",
       "      <td>6.900000</td>\n",
       "      <td>29.4</td>\n",
       "      <td>20.0</td>\n",
       "      <td>16.0</td>\n",
       "      <td>4</td>\n",
       "    </tr>\n",
       "    <tr>\n",
       "      <th>1990-05-07</th>\n",
       "      <td>sj</td>\n",
       "      <td>1990</td>\n",
       "      <td>19</td>\n",
       "      <td>0.169900</td>\n",
       "      <td>0.142175</td>\n",
       "      <td>0.162357</td>\n",
       "      <td>0.155486</td>\n",
       "      <td>22.82</td>\n",
       "      <td>298.211429</td>\n",
       "      <td>298.442857</td>\n",
       "      <td>...</td>\n",
       "      <td>77.368571</td>\n",
       "      <td>22.82</td>\n",
       "      <td>15.372857</td>\n",
       "      <td>2.371429</td>\n",
       "      <td>26.714286</td>\n",
       "      <td>6.371429</td>\n",
       "      <td>31.7</td>\n",
       "      <td>22.2</td>\n",
       "      <td>8.6</td>\n",
       "      <td>5</td>\n",
       "    </tr>\n",
       "    <tr>\n",
       "      <th>1990-05-14</th>\n",
       "      <td>sj</td>\n",
       "      <td>1990</td>\n",
       "      <td>20</td>\n",
       "      <td>0.032250</td>\n",
       "      <td>0.172967</td>\n",
       "      <td>0.157200</td>\n",
       "      <td>0.170843</td>\n",
       "      <td>34.54</td>\n",
       "      <td>298.781429</td>\n",
       "      <td>298.878571</td>\n",
       "      <td>...</td>\n",
       "      <td>82.052857</td>\n",
       "      <td>34.54</td>\n",
       "      <td>16.848571</td>\n",
       "      <td>2.300000</td>\n",
       "      <td>26.714286</td>\n",
       "      <td>6.485714</td>\n",
       "      <td>32.2</td>\n",
       "      <td>22.8</td>\n",
       "      <td>41.4</td>\n",
       "      <td>4</td>\n",
       "    </tr>\n",
       "    <tr>\n",
       "      <th>1990-05-21</th>\n",
       "      <td>sj</td>\n",
       "      <td>1990</td>\n",
       "      <td>21</td>\n",
       "      <td>0.128633</td>\n",
       "      <td>0.245067</td>\n",
       "      <td>0.227557</td>\n",
       "      <td>0.235886</td>\n",
       "      <td>15.36</td>\n",
       "      <td>298.987143</td>\n",
       "      <td>299.228571</td>\n",
       "      <td>...</td>\n",
       "      <td>80.337143</td>\n",
       "      <td>15.36</td>\n",
       "      <td>16.672857</td>\n",
       "      <td>2.428571</td>\n",
       "      <td>27.471429</td>\n",
       "      <td>6.771429</td>\n",
       "      <td>33.3</td>\n",
       "      <td>23.3</td>\n",
       "      <td>4.0</td>\n",
       "      <td>3</td>\n",
       "    </tr>\n",
       "    <tr>\n",
       "      <th>1990-05-28</th>\n",
       "      <td>sj</td>\n",
       "      <td>1990</td>\n",
       "      <td>22</td>\n",
       "      <td>0.196200</td>\n",
       "      <td>0.262200</td>\n",
       "      <td>0.251200</td>\n",
       "      <td>0.247340</td>\n",
       "      <td>7.52</td>\n",
       "      <td>299.518571</td>\n",
       "      <td>299.664286</td>\n",
       "      <td>...</td>\n",
       "      <td>80.460000</td>\n",
       "      <td>7.52</td>\n",
       "      <td>17.210000</td>\n",
       "      <td>3.014286</td>\n",
       "      <td>28.942857</td>\n",
       "      <td>9.371429</td>\n",
       "      <td>35.0</td>\n",
       "      <td>23.9</td>\n",
       "      <td>5.8</td>\n",
       "      <td>6</td>\n",
       "    </tr>\n",
       "  </tbody>\n",
       "</table>\n",
       "<p>5 rows × 24 columns</p>\n",
       "</div>"
      ],
      "text/plain": [
       "                city  year  weekofyear   ndvi_ne   ndvi_nw   ndvi_se  \\\n",
       "week_start_date                                                        \n",
       "1990-04-30        sj  1990          18  0.122600  0.103725  0.198483   \n",
       "1990-05-07        sj  1990          19  0.169900  0.142175  0.162357   \n",
       "1990-05-14        sj  1990          20  0.032250  0.172967  0.157200   \n",
       "1990-05-21        sj  1990          21  0.128633  0.245067  0.227557   \n",
       "1990-05-28        sj  1990          22  0.196200  0.262200  0.251200   \n",
       "\n",
       "                  ndvi_sw  precipitation_amt_mm  reanalysis_air_temp_k  \\\n",
       "week_start_date                                                          \n",
       "1990-04-30       0.177617                 12.42             297.572857   \n",
       "1990-05-07       0.155486                 22.82             298.211429   \n",
       "1990-05-14       0.170843                 34.54             298.781429   \n",
       "1990-05-21       0.235886                 15.36             298.987143   \n",
       "1990-05-28       0.247340                  7.52             299.518571   \n",
       "\n",
       "                 reanalysis_avg_temp_k  ...  \\\n",
       "week_start_date                         ...   \n",
       "1990-04-30                  297.742857  ...   \n",
       "1990-05-07                  298.442857  ...   \n",
       "1990-05-14                  298.878571  ...   \n",
       "1990-05-21                  299.228571  ...   \n",
       "1990-05-28                  299.664286  ...   \n",
       "\n",
       "                 reanalysis_relative_humidity_percent  \\\n",
       "week_start_date                                         \n",
       "1990-04-30                                  73.365714   \n",
       "1990-05-07                                  77.368571   \n",
       "1990-05-14                                  82.052857   \n",
       "1990-05-21                                  80.337143   \n",
       "1990-05-28                                  80.460000   \n",
       "\n",
       "                 reanalysis_sat_precip_amt_mm  \\\n",
       "week_start_date                                 \n",
       "1990-04-30                              12.42   \n",
       "1990-05-07                              22.82   \n",
       "1990-05-14                              34.54   \n",
       "1990-05-21                              15.36   \n",
       "1990-05-28                               7.52   \n",
       "\n",
       "                 reanalysis_specific_humidity_g_per_kg  reanalysis_tdtr_k  \\\n",
       "week_start_date                                                             \n",
       "1990-04-30                                   14.012857           2.628571   \n",
       "1990-05-07                                   15.372857           2.371429   \n",
       "1990-05-14                                   16.848571           2.300000   \n",
       "1990-05-21                                   16.672857           2.428571   \n",
       "1990-05-28                                   17.210000           3.014286   \n",
       "\n",
       "                 station_avg_temp_c  station_diur_temp_rng_c  \\\n",
       "week_start_date                                                \n",
       "1990-04-30                25.442857                 6.900000   \n",
       "1990-05-07                26.714286                 6.371429   \n",
       "1990-05-14                26.714286                 6.485714   \n",
       "1990-05-21                27.471429                 6.771429   \n",
       "1990-05-28                28.942857                 9.371429   \n",
       "\n",
       "                 station_max_temp_c  station_min_temp_c  station_precip_mm  \\\n",
       "week_start_date                                                              \n",
       "1990-04-30                     29.4                20.0               16.0   \n",
       "1990-05-07                     31.7                22.2                8.6   \n",
       "1990-05-14                     32.2                22.8               41.4   \n",
       "1990-05-21                     33.3                23.3                4.0   \n",
       "1990-05-28                     35.0                23.9                5.8   \n",
       "\n",
       "                 total_cases  \n",
       "week_start_date               \n",
       "1990-04-30                 4  \n",
       "1990-05-07                 5  \n",
       "1990-05-14                 4  \n",
       "1990-05-21                 3  \n",
       "1990-05-28                 6  \n",
       "\n",
       "[5 rows x 24 columns]"
      ]
     },
     "execution_count": 53,
     "metadata": {},
     "output_type": "execute_result"
    }
   ],
   "source": [
    "df.head()"
   ]
  },
  {
   "cell_type": "code",
   "execution_count": 54,
   "metadata": {
    "colab": {
     "base_uri": "https://localhost:8080/"
    },
    "id": "gXnNBgpGJjgB",
    "outputId": "b0b15c6d-c778-411e-b203-9b10b900f906"
   },
   "outputs": [
    {
     "name": "stdout",
     "output_type": "stream",
     "text": [
      "<class 'pandas.core.frame.DataFrame'>\n",
      "Index: 1456 entries, 1990-04-30 to 2010-06-25\n",
      "Data columns (total 24 columns):\n",
      " #   Column                                 Non-Null Count  Dtype  \n",
      "---  ------                                 --------------  -----  \n",
      " 0   city                                   1456 non-null   object \n",
      " 1   year                                   1456 non-null   int64  \n",
      " 2   weekofyear                             1456 non-null   int64  \n",
      " 3   ndvi_ne                                1262 non-null   float64\n",
      " 4   ndvi_nw                                1404 non-null   float64\n",
      " 5   ndvi_se                                1434 non-null   float64\n",
      " 6   ndvi_sw                                1434 non-null   float64\n",
      " 7   precipitation_amt_mm                   1443 non-null   float64\n",
      " 8   reanalysis_air_temp_k                  1446 non-null   float64\n",
      " 9   reanalysis_avg_temp_k                  1446 non-null   float64\n",
      " 10  reanalysis_dew_point_temp_k            1446 non-null   float64\n",
      " 11  reanalysis_max_air_temp_k              1446 non-null   float64\n",
      " 12  reanalysis_min_air_temp_k              1446 non-null   float64\n",
      " 13  reanalysis_precip_amt_kg_per_m2        1446 non-null   float64\n",
      " 14  reanalysis_relative_humidity_percent   1446 non-null   float64\n",
      " 15  reanalysis_sat_precip_amt_mm           1443 non-null   float64\n",
      " 16  reanalysis_specific_humidity_g_per_kg  1446 non-null   float64\n",
      " 17  reanalysis_tdtr_k                      1446 non-null   float64\n",
      " 18  station_avg_temp_c                     1413 non-null   float64\n",
      " 19  station_diur_temp_rng_c                1413 non-null   float64\n",
      " 20  station_max_temp_c                     1436 non-null   float64\n",
      " 21  station_min_temp_c                     1442 non-null   float64\n",
      " 22  station_precip_mm                      1434 non-null   float64\n",
      " 23  total_cases                            1456 non-null   int64  \n",
      "dtypes: float64(20), int64(3), object(1)\n",
      "memory usage: 284.4+ KB\n"
     ]
    }
   ],
   "source": [
    "df.info()"
   ]
  },
  {
   "cell_type": "markdown",
   "metadata": {},
   "source": [
    "### Evaluate distribution of observations to determine train/test split"
   ]
  },
  {
   "cell_type": "code",
   "execution_count": 55,
   "metadata": {
    "colab": {
     "base_uri": "https://localhost:8080/"
    },
    "id": "DUbDstQVJwyz",
    "outputId": "402d83de-1d0c-4642-c7c1-82f8c7c5f590"
   },
   "outputs": [
    {
     "data": {
      "text/plain": [
       "1990     35\n",
       "1991     52\n",
       "1992     52\n",
       "1993     52\n",
       "1994     52\n",
       "1995     52\n",
       "1996     52\n",
       "1997     52\n",
       "1998     52\n",
       "1999     52\n",
       "2000     78\n",
       "2001    104\n",
       "2002    104\n",
       "2003    104\n",
       "2004    104\n",
       "2005    104\n",
       "2006    104\n",
       "2007    104\n",
       "2008     69\n",
       "2009     52\n",
       "2010     26\n",
       "Name: year, dtype: int64"
      ]
     },
     "execution_count": 55,
     "metadata": {},
     "output_type": "execute_result"
    }
   ],
   "source": [
    "df[\"year\"].value_counts().sort_index()"
   ]
  },
  {
   "cell_type": "markdown",
   "metadata": {},
   "source": [
    "Total observations: 1456\n",
    "\n",
    "Train cutoff: 2004 (893 observations, about 61%)\n",
    "\n",
    "Validate cutoff: 2007 (312 observations, about 21%)\n",
    "\n",
    "Test set: 2008–2010 (251 observations, about 17%)"
   ]
  },
  {
   "cell_type": "markdown",
   "metadata": {},
   "source": [
    "### Evaluate distribution of target feature (total_cases)"
   ]
  },
  {
   "cell_type": "code",
   "execution_count": 56,
   "metadata": {
    "colab": {
     "base_uri": "https://localhost:8080/",
     "height": 265
    },
    "id": "lW_2AEOiMZEq",
    "outputId": "9eb382a7-1903-4f6e-a9bf-644bc949430f"
   },
   "outputs": [
    {
     "data": {
      "image/png": "[encoded data removed]",
      "text/plain": [
       "<Figure size 432x288 with 1 Axes>"
      ]
     },
     "metadata": {
      "needs_background": "light"
     },
     "output_type": "display_data"
    }
   ],
   "source": [
    "df[\"total_cases\"].hist(bins=50, color=\"#d2451e\");"
   ]
  },
  {
   "cell_type": "markdown",
   "metadata": {},
   "source": [
    "Target is right skewed"
   ]
  },
  {
   "cell_type": "markdown",
   "metadata": {},
   "source": [
    "### Confirming that \"station\" temperature measurements are equivalent to \"reanalysis\" temp measurements\n",
    "Convert kelvins from reanalysis temps to celcius in order to compare station measurements\n",
    "\n",
    "*Formula to convert kelvins to celcius is K - 273.15*"
   ]
  },
  {
   "cell_type": "code",
   "execution_count": 57,
   "metadata": {
    "colab": {
     "base_uri": "https://localhost:8080/",
     "height": 455
    },
    "id": "Y2gNHWpXOjXs",
    "outputId": "97f4d518-4148-4d25-d196-511ba6604dae"
   },
   "outputs": [
    {
     "data": {
      "text/html": [
       "<div>\n",
       "<style scoped>\n",
       "    .dataframe tbody tr th:only-of-type {\n",
       "        vertical-align: middle;\n",
       "    }\n",
       "\n",
       "    .dataframe tbody tr th {\n",
       "        vertical-align: top;\n",
       "    }\n",
       "\n",
       "    .dataframe thead th {\n",
       "        text-align: right;\n",
       "    }\n",
       "</style>\n",
       "<table border=\"1\" class=\"dataframe\">\n",
       "  <thead>\n",
       "    <tr style=\"text-align: right;\">\n",
       "      <th></th>\n",
       "      <th>max_air_temp_c</th>\n",
       "      <th>station_max_temp_c</th>\n",
       "    </tr>\n",
       "    <tr>\n",
       "      <th>week_start_date</th>\n",
       "      <th></th>\n",
       "      <th></th>\n",
       "    </tr>\n",
       "  </thead>\n",
       "  <tbody>\n",
       "    <tr>\n",
       "      <th>1990-04-30</th>\n",
       "      <td>26.65</td>\n",
       "      <td>29.4</td>\n",
       "    </tr>\n",
       "    <tr>\n",
       "      <th>1990-05-07</th>\n",
       "      <td>27.75</td>\n",
       "      <td>31.7</td>\n",
       "    </tr>\n",
       "    <tr>\n",
       "      <th>1990-05-14</th>\n",
       "      <td>27.35</td>\n",
       "      <td>32.2</td>\n",
       "    </tr>\n",
       "    <tr>\n",
       "      <th>1990-05-21</th>\n",
       "      <td>28.25</td>\n",
       "      <td>33.3</td>\n",
       "    </tr>\n",
       "    <tr>\n",
       "      <th>1990-05-28</th>\n",
       "      <td>28.75</td>\n",
       "      <td>35.0</td>\n",
       "    </tr>\n",
       "    <tr>\n",
       "      <th>...</th>\n",
       "      <td>...</td>\n",
       "      <td>...</td>\n",
       "    </tr>\n",
       "    <tr>\n",
       "      <th>2010-05-28</th>\n",
       "      <td>36.55</td>\n",
       "      <td>35.4</td>\n",
       "    </tr>\n",
       "    <tr>\n",
       "      <th>2010-06-04</th>\n",
       "      <td>35.35</td>\n",
       "      <td>34.7</td>\n",
       "    </tr>\n",
       "    <tr>\n",
       "      <th>2010-06-11</th>\n",
       "      <td>32.35</td>\n",
       "      <td>32.2</td>\n",
       "    </tr>\n",
       "    <tr>\n",
       "      <th>2010-06-18</th>\n",
       "      <td>32.95</td>\n",
       "      <td>31.2</td>\n",
       "    </tr>\n",
       "    <tr>\n",
       "      <th>2010-06-25</th>\n",
       "      <td>34.65</td>\n",
       "      <td>33.7</td>\n",
       "    </tr>\n",
       "  </tbody>\n",
       "</table>\n",
       "<p>1456 rows × 2 columns</p>\n",
       "</div>"
      ],
      "text/plain": [
       "                 max_air_temp_c  station_max_temp_c\n",
       "week_start_date                                    \n",
       "1990-04-30                26.65                29.4\n",
       "1990-05-07                27.75                31.7\n",
       "1990-05-14                27.35                32.2\n",
       "1990-05-21                28.25                33.3\n",
       "1990-05-28                28.75                35.0\n",
       "...                         ...                 ...\n",
       "2010-05-28                36.55                35.4\n",
       "2010-06-04                35.35                34.7\n",
       "2010-06-11                32.35                32.2\n",
       "2010-06-18                32.95                31.2\n",
       "2010-06-25                34.65                33.7\n",
       "\n",
       "[1456 rows x 2 columns]"
      ]
     },
     "execution_count": 57,
     "metadata": {},
     "output_type": "execute_result"
    }
   ],
   "source": [
    "df[\"max_air_temp_c\"] = df[\"reanalysis_max_air_temp_k\"] - 273.15\n",
    "df[[\"max_air_temp_c\", \"station_max_temp_c\"]]"
   ]
  },
  {
   "cell_type": "markdown",
   "metadata": {},
   "source": [
    "Converted \"reanalysis_max_air_temp_k\" is close enough to \"station_max_temp_c\" that I feel comfortable considering the \"station\" measurements redundant"
   ]
  },
  {
   "cell_type": "markdown",
   "metadata": {},
   "source": [
    "### Deciding which columns to drop\n",
    "All of the `station` measruements appear to be repeated in the `reanalysis` measurements (difference is units, celcius vs. kelvins)\n",
    "* `station_max_temp_c`\n",
    "* `station_min_temp_c`\n",
    "* `station_avg_temp_c`\n",
    "* `station_precip_mm`\n",
    "* `station_diur_temp_rng`\n",
    "\n",
    "`precipitation_amt_mm` appears to be identical to `reanalysis_stat_precip_amt_mm`. Choosing to keep `reanalysis_stat_precip_atm_mm`, as I will be keeping the \"reanalysis\" data for other measurements\n",
    "\n",
    "\n",
    "*Should `year` column be dropped?* It would behave like an integer here, and I could imagine that it could have an impact on case numbers (eg, climate change). But if the impact of year is because of climate changes, then the temperature features would account for that change (ie, if the impact of time passing/climate change is that the weather impacts case numbers, all of the weather data recorded would be sufficient). *Ultimately have decided to drop the `year` column*"
   ]
  },
  {
   "cell_type": "code",
   "execution_count": 58,
   "metadata": {
    "colab": {
     "base_uri": "https://localhost:8080/",
     "height": 291
    },
    "id": "m81-6FfkMzxQ",
    "outputId": "f5134dc6-91a7-4f29-cb3d-3bde6717c988"
   },
   "outputs": [
    {
     "name": "stdout",
     "output_type": "stream",
     "text": [
      "precipitation_amt_mm            1157\n",
      "reanalysis_sat_precip_amt_mm    1157\n",
      "dtype: int64\n"
     ]
    },
    {
     "data": {
      "text/html": [
       "<div>\n",
       "<style scoped>\n",
       "    .dataframe tbody tr th:only-of-type {\n",
       "        vertical-align: middle;\n",
       "    }\n",
       "\n",
       "    .dataframe tbody tr th {\n",
       "        vertical-align: top;\n",
       "    }\n",
       "\n",
       "    .dataframe thead th {\n",
       "        text-align: right;\n",
       "    }\n",
       "</style>\n",
       "<table border=\"1\" class=\"dataframe\">\n",
       "  <thead>\n",
       "    <tr style=\"text-align: right;\">\n",
       "      <th></th>\n",
       "      <th>precipitation_amt_mm</th>\n",
       "      <th>reanalysis_sat_precip_amt_mm</th>\n",
       "    </tr>\n",
       "    <tr>\n",
       "      <th>week_start_date</th>\n",
       "      <th></th>\n",
       "      <th></th>\n",
       "    </tr>\n",
       "  </thead>\n",
       "  <tbody>\n",
       "    <tr>\n",
       "      <th>1990-04-30</th>\n",
       "      <td>12.42</td>\n",
       "      <td>12.42</td>\n",
       "    </tr>\n",
       "    <tr>\n",
       "      <th>1990-05-07</th>\n",
       "      <td>22.82</td>\n",
       "      <td>22.82</td>\n",
       "    </tr>\n",
       "    <tr>\n",
       "      <th>1990-05-14</th>\n",
       "      <td>34.54</td>\n",
       "      <td>34.54</td>\n",
       "    </tr>\n",
       "    <tr>\n",
       "      <th>1990-05-21</th>\n",
       "      <td>15.36</td>\n",
       "      <td>15.36</td>\n",
       "    </tr>\n",
       "    <tr>\n",
       "      <th>1990-05-28</th>\n",
       "      <td>7.52</td>\n",
       "      <td>7.52</td>\n",
       "    </tr>\n",
       "  </tbody>\n",
       "</table>\n",
       "</div>"
      ],
      "text/plain": [
       "                 precipitation_amt_mm  reanalysis_sat_precip_amt_mm\n",
       "week_start_date                                                    \n",
       "1990-04-30                      12.42                         12.42\n",
       "1990-05-07                      22.82                         22.82\n",
       "1990-05-14                      34.54                         34.54\n",
       "1990-05-21                      15.36                         15.36\n",
       "1990-05-28                       7.52                          7.52"
      ]
     },
     "execution_count": 58,
     "metadata": {},
     "output_type": "execute_result"
    }
   ],
   "source": [
    "print(df[[\"precipitation_amt_mm\", \"reanalysis_sat_precip_amt_mm\"]].nunique())\n",
    "df[[\"precipitation_amt_mm\", \"reanalysis_sat_precip_amt_mm\"]].head()"
   ]
  },
  {
   "cell_type": "markdown",
   "metadata": {},
   "source": [
    "`reanalysis_precip_amt_kg_per_m2` is total precipation in a different unit (1kg/m^2 is equivalent to 1mm precipitation); potentially should also be dropped"
   ]
  },
  {
   "cell_type": "markdown",
   "metadata": {},
   "source": [
    "**Comparing `relative_humidity_percent` to `specific_humidty_g_per_kg` to check for redundancy:**"
   ]
  },
  {
   "cell_type": "code",
   "execution_count": 59,
   "metadata": {
    "colab": {
     "base_uri": "https://localhost:8080/",
     "height": 291
    },
    "id": "znzd3WghQzT4",
    "outputId": "1671ac39-ff0c-4fed-f434-f84718e4a0cf"
   },
   "outputs": [
    {
     "name": "stdout",
     "output_type": "stream",
     "text": [
      "reanalysis_relative_humidity_percent     1370\n",
      "reanalysis_specific_humidity_g_per_kg    1171\n",
      "dtype: int64\n"
     ]
    },
    {
     "data": {
      "text/html": [
       "<div>\n",
       "<style scoped>\n",
       "    .dataframe tbody tr th:only-of-type {\n",
       "        vertical-align: middle;\n",
       "    }\n",
       "\n",
       "    .dataframe tbody tr th {\n",
       "        vertical-align: top;\n",
       "    }\n",
       "\n",
       "    .dataframe thead th {\n",
       "        text-align: right;\n",
       "    }\n",
       "</style>\n",
       "<table border=\"1\" class=\"dataframe\">\n",
       "  <thead>\n",
       "    <tr style=\"text-align: right;\">\n",
       "      <th></th>\n",
       "      <th>reanalysis_relative_humidity_percent</th>\n",
       "      <th>reanalysis_specific_humidity_g_per_kg</th>\n",
       "    </tr>\n",
       "    <tr>\n",
       "      <th>week_start_date</th>\n",
       "      <th></th>\n",
       "      <th></th>\n",
       "    </tr>\n",
       "  </thead>\n",
       "  <tbody>\n",
       "    <tr>\n",
       "      <th>2010-05-28</th>\n",
       "      <td>88.765714</td>\n",
       "      <td>18.485714</td>\n",
       "    </tr>\n",
       "    <tr>\n",
       "      <th>2010-06-04</th>\n",
       "      <td>91.600000</td>\n",
       "      <td>18.070000</td>\n",
       "    </tr>\n",
       "    <tr>\n",
       "      <th>2010-06-11</th>\n",
       "      <td>94.280000</td>\n",
       "      <td>17.008571</td>\n",
       "    </tr>\n",
       "    <tr>\n",
       "      <th>2010-06-18</th>\n",
       "      <td>94.660000</td>\n",
       "      <td>16.815714</td>\n",
       "    </tr>\n",
       "    <tr>\n",
       "      <th>2010-06-25</th>\n",
       "      <td>89.082857</td>\n",
       "      <td>17.355714</td>\n",
       "    </tr>\n",
       "  </tbody>\n",
       "</table>\n",
       "</div>"
      ],
      "text/plain": [
       "                 reanalysis_relative_humidity_percent  \\\n",
       "week_start_date                                         \n",
       "2010-05-28                                  88.765714   \n",
       "2010-06-04                                  91.600000   \n",
       "2010-06-11                                  94.280000   \n",
       "2010-06-18                                  94.660000   \n",
       "2010-06-25                                  89.082857   \n",
       "\n",
       "                 reanalysis_specific_humidity_g_per_kg  \n",
       "week_start_date                                         \n",
       "2010-05-28                                   18.485714  \n",
       "2010-06-04                                   18.070000  \n",
       "2010-06-11                                   17.008571  \n",
       "2010-06-18                                   16.815714  \n",
       "2010-06-25                                   17.355714  "
      ]
     },
     "execution_count": 59,
     "metadata": {},
     "output_type": "execute_result"
    }
   ],
   "source": [
    "print(df[[\"reanalysis_relative_humidity_percent\", \n",
    "          \"reanalysis_specific_humidity_g_per_kg\"]].nunique())\n",
    "df[[\"reanalysis_relative_humidity_percent\", \n",
    "    \"reanalysis_specific_humidity_g_per_kg\"]].tail()"
   ]
  },
  {
   "cell_type": "markdown",
   "metadata": {},
   "source": [
    "These columns do not appear to be as similar in values as I had expected. \n",
    "\n",
    "After researching the two kinds of measures, I found that:\n",
    "* Relative humidity is a function of both water content and temp, or the percent of moisture the air is holding relative to the maximum humidity possible for that temperature\n",
    "* Specific humidity is the ratio of the mass of water vapor in an air parcel to the mass of dry air for the same parcel\n",
    "\n",
    "Have decided to keep both columns until checking for feature/permutation importance"
   ]
  },
  {
   "cell_type": "markdown",
   "metadata": {},
   "source": [
    "**Comparing `reanalysis_air_temp_k` and `reanalysis_avg_temp_k`**\n",
    "\n",
    "In the descriptions from the data source, these two columns are described as \"mean air temp\" and \"average air temp\", respectively. I would expect them to be very similar. "
   ]
  },
  {
   "cell_type": "code",
   "execution_count": 12,
   "metadata": {
    "colab": {
     "base_uri": "https://localhost:8080/",
     "height": 291
    },
    "id": "pMwAt4XBTHAX",
    "outputId": "01402212-b159-4990-a2cd-d15f85d69456"
   },
   "outputs": [
    {
     "name": "stdout",
     "output_type": "stream",
     "text": [
      "reanalysis_air_temp_k    1176\n",
      "reanalysis_avg_temp_k     600\n",
      "dtype: int64\n"
     ]
    },
    {
     "data": {
      "text/html": [
       "<div>\n",
       "<style scoped>\n",
       "    .dataframe tbody tr th:only-of-type {\n",
       "        vertical-align: middle;\n",
       "    }\n",
       "\n",
       "    .dataframe tbody tr th {\n",
       "        vertical-align: top;\n",
       "    }\n",
       "\n",
       "    .dataframe thead th {\n",
       "        text-align: right;\n",
       "    }\n",
       "</style>\n",
       "<table border=\"1\" class=\"dataframe\">\n",
       "  <thead>\n",
       "    <tr style=\"text-align: right;\">\n",
       "      <th></th>\n",
       "      <th>reanalysis_air_temp_k</th>\n",
       "      <th>reanalysis_avg_temp_k</th>\n",
       "    </tr>\n",
       "    <tr>\n",
       "      <th>week_start_date</th>\n",
       "      <th></th>\n",
       "      <th></th>\n",
       "    </tr>\n",
       "  </thead>\n",
       "  <tbody>\n",
       "    <tr>\n",
       "      <th>2010-05-28</th>\n",
       "      <td>299.334286</td>\n",
       "      <td>300.771429</td>\n",
       "    </tr>\n",
       "    <tr>\n",
       "      <th>2010-06-04</th>\n",
       "      <td>298.330000</td>\n",
       "      <td>299.392857</td>\n",
       "    </tr>\n",
       "    <tr>\n",
       "      <th>2010-06-11</th>\n",
       "      <td>296.598571</td>\n",
       "      <td>297.592857</td>\n",
       "    </tr>\n",
       "    <tr>\n",
       "      <th>2010-06-18</th>\n",
       "      <td>296.345714</td>\n",
       "      <td>297.521429</td>\n",
       "    </tr>\n",
       "    <tr>\n",
       "      <th>2010-06-25</th>\n",
       "      <td>298.097143</td>\n",
       "      <td>299.835714</td>\n",
       "    </tr>\n",
       "  </tbody>\n",
       "</table>\n",
       "</div>"
      ],
      "text/plain": [
       "                 reanalysis_air_temp_k  reanalysis_avg_temp_k\n",
       "week_start_date                                              \n",
       "2010-05-28                  299.334286             300.771429\n",
       "2010-06-04                  298.330000             299.392857\n",
       "2010-06-11                  296.598571             297.592857\n",
       "2010-06-18                  296.345714             297.521429\n",
       "2010-06-25                  298.097143             299.835714"
      ]
     },
     "execution_count": 12,
     "metadata": {},
     "output_type": "execute_result"
    }
   ],
   "source": [
    "print(df[[\"reanalysis_air_temp_k\", \"reanalysis_avg_temp_k\"]].nunique())\n",
    "df[[\"reanalysis_air_temp_k\", \"reanalysis_avg_temp_k\"]].tail()"
   ]
  },
  {
   "cell_type": "markdown",
   "metadata": {},
   "source": [
    "They look very similar when looking at the head/tail. Not sure why `reanalysis_avg_temp_k` has about half the unique values as `reanalysis_air_temp_k`.\n",
    "\n",
    "Choosing to keep the richer column of `reanalysis_air_temp_k`"
   ]
  },
  {
   "cell_type": "markdown",
   "metadata": {},
   "source": [
    "**Exploring where `total_cases` is 0**\n",
    "\n",
    "I need to transform the `total_cases` column, as it is heavily right skewed. However, performing a log function on the column raised errors, as log 0 is undefined. Considering how to handle the observations with 0 `total_cases`"
   ]
  },
  {
   "cell_type": "code",
   "execution_count": 60,
   "metadata": {
    "colab": {
     "base_uri": "https://localhost:8080/"
    },
    "id": "IMiD2fCMWXjd",
    "outputId": "286da5e6-5cdf-4b3e-c801-dd3d9644fc79"
   },
   "outputs": [
    {
     "name": "stdout",
     "output_type": "stream",
     "text": [
      "0    100\n",
      "Name: total_cases, dtype: int64\n"
     ]
    },
    {
     "data": {
      "text/plain": [
       "iq    96\n",
       "sj     4\n",
       "Name: city, dtype: int64"
      ]
     },
     "execution_count": 60,
     "metadata": {},
     "output_type": "execute_result"
    }
   ],
   "source": [
    "mask = df[\"total_cases\"] == 0\n",
    "print(df[mask][\"total_cases\"].value_counts())\n",
    "100/1456\n",
    "\n",
    "df[mask][\"city\"].value_counts()"
   ]
  },
  {
   "cell_type": "code",
   "execution_count": 61,
   "metadata": {
    "colab": {
     "base_uri": "https://localhost:8080/"
    },
    "id": "FkpSLT_5Wzbu",
    "outputId": "7c7344a0-61c7-4de6-a9fc-5b6880f409f1"
   },
   "outputs": [
    {
     "data": {
      "text/plain": [
       "0.06868131868131869"
      ]
     },
     "execution_count": 61,
     "metadata": {},
     "output_type": "execute_result"
    }
   ],
   "source": [
    "df.shape\n",
    "100/1456"
   ]
  },
  {
   "cell_type": "markdown",
   "metadata": {},
   "source": [
    "Observations of zero cases amount to ~ 7% of all observations.\n",
    "\n",
    "Most of the observations of 0 `total_cases` occur in Iquitos"
   ]
  },
  {
   "cell_type": "markdown",
   "metadata": {},
   "source": [
    "**Final list of columns to drop:**\n",
    "\n",
    "* `station_max_temp_c`\n",
    "* `station_min_temp_c`\n",
    "* `station_avg_temp_c`\n",
    "* `station_precip_mm`\n",
    "* `station_diur_temp_rng`\n",
    "* `precipitation_amt_mm`\n",
    "* `reanalysis_sat_precip_amt_mm`\n",
    "* `reanalysis_relative_humidity_percent`\n",
    "* `reanalysis_avg_temp_k`\n",
    "* `year`\n",
    "* `total_cases`\n",
    "\n",
    "*Dropped after calculating permutation importance*\n",
    "* `relative_humidity_percent`\n",
    "* `sat_precip_amt_mm`"
   ]
  },
  {
   "cell_type": "markdown",
   "metadata": {
    "id": "YA7Tav81UuSV"
   },
   "source": [
    "## Wrangling"
   ]
  },
  {
   "cell_type": "code",
   "execution_count": 73,
   "metadata": {
    "id": "t0U2VUSGUwMu"
   },
   "outputs": [],
   "source": [
    "def wrangle(features, labels = None):\n",
    "    if labels:\n",
    "        df = pd.merge(pd.read_csv(features, parse_dates=True), \n",
    "                      pd.read_csv(labels, parse_dates=True))\n",
    "    else:\n",
    "        df = pd.read_csv(features, parse_dates=True)\n",
    "\n",
    "    df.set_index(\"week_start_date\", inplace=True) # set start date as index\n",
    "    df.sort_index(inplace=True)\n",
    "\n",
    "    #———————————————————————\n",
    "    # Encode city (1 = San Juan, 0 = Iquitos)\n",
    "    df[\"city\"] = (df[\"city\"] == \"sj\").astype(int)\n",
    "\n",
    "    #———————————————————————\n",
    "    # Take care of skewed target column\n",
    "    # apply log to total_cases, then drop total_cases to prevent leakage;\n",
    "      # log of 0 was causing problems (log 0 is undefined),\n",
    "      # so imputing as 0 for best approximation\n",
    "      # May explore dropping observations with 0 total_cases\n",
    "    df[\"total_cases_log\"] = df.apply(lambda x: 0 if (x[\"total_cases\"] == 0) \n",
    "                                     else np.log(x[\"total_cases\"]), axis=1)\n",
    "\n",
    "    #———————————————————————\n",
    "    # DROPPING COLUMNS\n",
    "    # add all of the \"station\" measurements to drop list\n",
    "    # (too much overlap with the reanalysis columns)\n",
    "    col_names = df.columns\n",
    "    cols_to_drop = [col for col in col_names if \"station\" in col]\n",
    "\n",
    "    # add some redundant precipitation columns and year column to drop\n",
    "    cols_to_drop.extend([\"precipitation_amt_mm\", \"reanalysis_avg_temp_k\", \n",
    "                        \"year\", \"total_cases\", \"reanalysis_sat_precip_amt_mm\",\n",
    "                        \"reanalysis_relative_humidity_percent\"])\n",
    "                      \n",
    "                        # last two columns added to drop list after calculating\n",
    "                        # permutation importance\n",
    "\n",
    "    # drop the columns in cols_to_drop list\n",
    "    df.drop(columns=cols_to_drop, inplace=True)\n",
    "\n",
    "    #———————————————————————\n",
    "    # SIMPLIFY COLUMN NAMES\n",
    "    col_names = df.columns\n",
    "\n",
    "    # remove \"reanalysis_\" prefix\n",
    "    col_names = [x.replace(\"reanalysis_\", \"\") for x in col_names]\n",
    "\n",
    "    # adjust other column names for clarity/simplicity\n",
    "    # (reassigning the names in the col_names list)\n",
    "    col_names[col_names.index(\"weekofyear\")] = \"year_week\"\n",
    "    col_names[col_names.index(\"air_temp_k\")] = \"mean_air_temp_k\"\n",
    "    col_names[col_names.index(\"tdtr_k\")] = \"diurn_temp_rng_k\"\n",
    "    # [DROPPED BELOW TWO COLUMNS AFTER CALCULATING PERMUTATION IMPORTANCE]\n",
    "    # col_names[col_names.index(\"relative_humidity_percent\")] = \"relative_humidity_pct\"  \n",
    "    # col_names[col_names.index(\"sat_precip_amt_mm\")] = \"precipitation_mm\"\n",
    "\n",
    "    # Use col_names list to reassign column names\n",
    "    df.columns = col_names\n",
    "\n",
    "    #———————————————————————\n",
    "    return df"
   ]
  },
  {
   "cell_type": "code",
   "execution_count": 77,
   "metadata": {
    "id": "0dymUs8ZZTB3"
   },
   "outputs": [],
   "source": [
    "df = wrangle(\"dengue_features_train.csv\", \"dengue_labels_train.csv\")"
   ]
  },
  {
   "cell_type": "code",
   "execution_count": 64,
   "metadata": {
    "colab": {
     "base_uri": "https://localhost:8080/",
     "height": 301
    },
    "id": "etJnBxmGRVGg",
    "outputId": "3f33c8d1-bc8e-4b05-cf36-523ec76fbd17"
   },
   "outputs": [
    {
     "data": {
      "text/html": [
       "<div>\n",
       "<style scoped>\n",
       "    .dataframe tbody tr th:only-of-type {\n",
       "        vertical-align: middle;\n",
       "    }\n",
       "\n",
       "    .dataframe tbody tr th {\n",
       "        vertical-align: top;\n",
       "    }\n",
       "\n",
       "    .dataframe thead th {\n",
       "        text-align: right;\n",
       "    }\n",
       "</style>\n",
       "<table border=\"1\" class=\"dataframe\">\n",
       "  <thead>\n",
       "    <tr style=\"text-align: right;\">\n",
       "      <th></th>\n",
       "      <th>city</th>\n",
       "      <th>year_week</th>\n",
       "      <th>ndvi_ne</th>\n",
       "      <th>ndvi_nw</th>\n",
       "      <th>ndvi_se</th>\n",
       "      <th>ndvi_sw</th>\n",
       "      <th>mean_air_temp_k</th>\n",
       "      <th>dew_point_temp_k</th>\n",
       "      <th>max_air_temp_k</th>\n",
       "      <th>min_air_temp_k</th>\n",
       "      <th>precip_amt_kg_per_m2</th>\n",
       "      <th>specific_humidity_g_per_kg</th>\n",
       "      <th>diurn_temp_rng_k</th>\n",
       "      <th>total_cases_log</th>\n",
       "    </tr>\n",
       "    <tr>\n",
       "      <th>week_start_date</th>\n",
       "      <th></th>\n",
       "      <th></th>\n",
       "      <th></th>\n",
       "      <th></th>\n",
       "      <th></th>\n",
       "      <th></th>\n",
       "      <th></th>\n",
       "      <th></th>\n",
       "      <th></th>\n",
       "      <th></th>\n",
       "      <th></th>\n",
       "      <th></th>\n",
       "      <th></th>\n",
       "      <th></th>\n",
       "    </tr>\n",
       "  </thead>\n",
       "  <tbody>\n",
       "    <tr>\n",
       "      <th>1990-04-30</th>\n",
       "      <td>1</td>\n",
       "      <td>18</td>\n",
       "      <td>0.122600</td>\n",
       "      <td>0.103725</td>\n",
       "      <td>0.198483</td>\n",
       "      <td>0.177617</td>\n",
       "      <td>297.572857</td>\n",
       "      <td>292.414286</td>\n",
       "      <td>299.8</td>\n",
       "      <td>295.9</td>\n",
       "      <td>32.00</td>\n",
       "      <td>14.012857</td>\n",
       "      <td>2.628571</td>\n",
       "      <td>1.386294</td>\n",
       "    </tr>\n",
       "    <tr>\n",
       "      <th>1990-05-07</th>\n",
       "      <td>1</td>\n",
       "      <td>19</td>\n",
       "      <td>0.169900</td>\n",
       "      <td>0.142175</td>\n",
       "      <td>0.162357</td>\n",
       "      <td>0.155486</td>\n",
       "      <td>298.211429</td>\n",
       "      <td>293.951429</td>\n",
       "      <td>300.9</td>\n",
       "      <td>296.4</td>\n",
       "      <td>17.94</td>\n",
       "      <td>15.372857</td>\n",
       "      <td>2.371429</td>\n",
       "      <td>1.609438</td>\n",
       "    </tr>\n",
       "    <tr>\n",
       "      <th>1990-05-14</th>\n",
       "      <td>1</td>\n",
       "      <td>20</td>\n",
       "      <td>0.032250</td>\n",
       "      <td>0.172967</td>\n",
       "      <td>0.157200</td>\n",
       "      <td>0.170843</td>\n",
       "      <td>298.781429</td>\n",
       "      <td>295.434286</td>\n",
       "      <td>300.5</td>\n",
       "      <td>297.3</td>\n",
       "      <td>26.10</td>\n",
       "      <td>16.848571</td>\n",
       "      <td>2.300000</td>\n",
       "      <td>1.386294</td>\n",
       "    </tr>\n",
       "    <tr>\n",
       "      <th>1990-05-21</th>\n",
       "      <td>1</td>\n",
       "      <td>21</td>\n",
       "      <td>0.128633</td>\n",
       "      <td>0.245067</td>\n",
       "      <td>0.227557</td>\n",
       "      <td>0.235886</td>\n",
       "      <td>298.987143</td>\n",
       "      <td>295.310000</td>\n",
       "      <td>301.4</td>\n",
       "      <td>297.0</td>\n",
       "      <td>13.90</td>\n",
       "      <td>16.672857</td>\n",
       "      <td>2.428571</td>\n",
       "      <td>1.098612</td>\n",
       "    </tr>\n",
       "    <tr>\n",
       "      <th>1990-05-28</th>\n",
       "      <td>1</td>\n",
       "      <td>22</td>\n",
       "      <td>0.196200</td>\n",
       "      <td>0.262200</td>\n",
       "      <td>0.251200</td>\n",
       "      <td>0.247340</td>\n",
       "      <td>299.518571</td>\n",
       "      <td>295.821429</td>\n",
       "      <td>301.9</td>\n",
       "      <td>297.5</td>\n",
       "      <td>12.20</td>\n",
       "      <td>17.210000</td>\n",
       "      <td>3.014286</td>\n",
       "      <td>1.791759</td>\n",
       "    </tr>\n",
       "  </tbody>\n",
       "</table>\n",
       "</div>"
      ],
      "text/plain": [
       "                 city  year_week   ndvi_ne   ndvi_nw   ndvi_se   ndvi_sw  \\\n",
       "week_start_date                                                            \n",
       "1990-04-30          1         18  0.122600  0.103725  0.198483  0.177617   \n",
       "1990-05-07          1         19  0.169900  0.142175  0.162357  0.155486   \n",
       "1990-05-14          1         20  0.032250  0.172967  0.157200  0.170843   \n",
       "1990-05-21          1         21  0.128633  0.245067  0.227557  0.235886   \n",
       "1990-05-28          1         22  0.196200  0.262200  0.251200  0.247340   \n",
       "\n",
       "                 mean_air_temp_k  dew_point_temp_k  max_air_temp_k  \\\n",
       "week_start_date                                                      \n",
       "1990-04-30            297.572857        292.414286           299.8   \n",
       "1990-05-07            298.211429        293.951429           300.9   \n",
       "1990-05-14            298.781429        295.434286           300.5   \n",
       "1990-05-21            298.987143        295.310000           301.4   \n",
       "1990-05-28            299.518571        295.821429           301.9   \n",
       "\n",
       "                 min_air_temp_k  precip_amt_kg_per_m2  \\\n",
       "week_start_date                                         \n",
       "1990-04-30                295.9                 32.00   \n",
       "1990-05-07                296.4                 17.94   \n",
       "1990-05-14                297.3                 26.10   \n",
       "1990-05-21                297.0                 13.90   \n",
       "1990-05-28                297.5                 12.20   \n",
       "\n",
       "                 specific_humidity_g_per_kg  diurn_temp_rng_k  total_cases_log  \n",
       "week_start_date                                                                 \n",
       "1990-04-30                        14.012857          2.628571         1.386294  \n",
       "1990-05-07                        15.372857          2.371429         1.609438  \n",
       "1990-05-14                        16.848571          2.300000         1.386294  \n",
       "1990-05-21                        16.672857          2.428571         1.098612  \n",
       "1990-05-28                        17.210000          3.014286         1.791759  "
      ]
     },
     "execution_count": 64,
     "metadata": {},
     "output_type": "execute_result"
    }
   ],
   "source": [
    "df.head()"
   ]
  },
  {
   "cell_type": "markdown",
   "metadata": {
    "id": "dDYjg3CCZi9l"
   },
   "source": [
    "## Plots"
   ]
  },
  {
   "cell_type": "code",
   "execution_count": 20,
   "metadata": {},
   "outputs": [],
   "source": [
    "colors = {1: \"#d2451e\", 0: \"#b1c4e3\"}"
   ]
  },
  {
   "cell_type": "code",
   "execution_count": 65,
   "metadata": {
    "colab": {
     "base_uri": "https://localhost:8080/",
     "height": 265
    },
    "id": "KpdS8bdLZnug",
    "outputId": "a05ec94a-5b10-45a8-a3c2-d71798d68fe0"
   },
   "outputs": [
    {
     "data": {
      "image/png": "[encoded data removed]",
      "text/plain": [
       "<Figure size 432x288 with 1 Axes>"
      ]
     },
     "metadata": {
      "needs_background": "light"
     },
     "output_type": "display_data"
    }
   ],
   "source": [
    "df[\"total_cases_log\"].hist(color=\"#d2451e\");"
   ]
  },
  {
   "cell_type": "code",
   "execution_count": 66,
   "metadata": {
    "colab": {
     "base_uri": "https://localhost:8080/",
     "height": 279
    },
    "id": "T84F9EwZZriv",
    "outputId": "7cd9932b-9ef2-4ead-ce8f-8b93fb8a7d55"
   },
   "outputs": [
    {
     "data": {
      "image/png": "[encoded data removed]",
      "text/plain": [
       "<Figure size 432x288 with 1 Axes>"
      ]
     },
     "metadata": {
      "needs_background": "light"
     },
     "output_type": "display_data"
    }
   ],
   "source": [
    "plt.scatter(df[\"year_week\"], df[\"total_cases_log\"], c=df[\"city\"].map(colors), alpha=0.3, s=15);\n",
    "plt.xlabel(\"week of year\");\n",
    "plt.ylabel(\"total cases\");"
   ]
  },
  {
   "cell_type": "code",
   "execution_count": 67,
   "metadata": {
    "colab": {
     "base_uri": "https://localhost:8080/",
     "height": 279
    },
    "id": "gZIpB7RpZ7h2",
    "outputId": "40d063c4-7ee9-4e59-e8d8-642203fc17a9"
   },
   "outputs": [
    {
     "data": {
      "image/png": "[encoded data removed]",
      "text/plain": [
       "<Figure size 432x288 with 1 Axes>"
      ]
     },
     "metadata": {
      "needs_background": "light"
     },
     "output_type": "display_data"
    }
   ],
   "source": [
    "plt.scatter(df[\"specific_humidity_g_per_kg\"], df[\"total_cases_log\"], c=df[\"city\"].map(colors), alpha=0.3, s=15);\n",
    "plt.xlabel(\"rspecific humidity (g per kg)\");\n",
    "plt.ylabel(\"total cases\");"
   ]
  },
  {
   "cell_type": "code",
   "execution_count": 68,
   "metadata": {
    "colab": {
     "base_uri": "https://localhost:8080/",
     "height": 279
    },
    "id": "7gKgOTdEZ9uq",
    "outputId": "6285dea1-2d01-4a5a-d6bc-f29479329ae0"
   },
   "outputs": [
    {
     "data": {
      "image/png": "[encoded data removed]",
      "text/plain": [
       "<Figure size 432x288 with 1 Axes>"
      ]
     },
     "metadata": {
      "needs_background": "light"
     },
     "output_type": "display_data"
    }
   ],
   "source": [
    "plt.scatter(df[\"diurn_temp_rng_k\"], df[\"total_cases_log\"], c=df[\"city\"].map(colors), alpha=0.3, s=15);\n",
    "plt.xlabel(\"diurnal temperature range (K)\");\n",
    "plt.ylabel(\"total cases\");"
   ]
  },
  {
   "cell_type": "code",
   "execution_count": 72,
   "metadata": {
    "colab": {
     "base_uri": "https://localhost:8080/",
     "height": 279
    },
    "id": "T1Q4sOh7RSev",
    "outputId": "799cf3de-297b-4415-a82c-b55ed05faa2b"
   },
   "outputs": [
    {
     "data": {
      "image/png": "[encoded data removed]",
      "text/plain": [
       "<Figure size 432x288 with 1 Axes>"
      ]
     },
     "metadata": {
      "needs_background": "light"
     },
     "output_type": "display_data"
    }
   ],
   "source": [
    "plt.scatter(df[\"relative_humidity_pct\"], df[\"specific_humidity_g_per_kg\"], c=df[\"city\"].map(colors), alpha=0.3, s=15);\n",
    "plt.xlabel(\"relative humidity (%)\");\n",
    "plt.ylabel(\"specific humidity (g per kg)\");"
   ]
  },
  {
   "cell_type": "markdown",
   "metadata": {
    "id": "Ieun1ba2dEuf"
   },
   "source": [
    "## Split data"
   ]
  },
  {
   "cell_type": "markdown",
   "metadata": {},
   "source": [
    "Split data into feature matrix and target vector"
   ]
  },
  {
   "cell_type": "code",
   "execution_count": 78,
   "metadata": {
    "id": "CYOl-Zn3ADyE"
   },
   "outputs": [],
   "source": [
    "target = \"total_cases_log\"\n",
    "X = df.drop(columns = target)\n",
    "y = df[target]"
   ]
  },
  {
   "cell_type": "markdown",
   "metadata": {},
   "source": [
    "Only splitting into train/test, as I will be using automated cross-validation methods"
   ]
  },
  {
   "cell_type": "code",
   "execution_count": 79,
   "metadata": {
    "id": "s_DRElkPdK0K"
   },
   "outputs": [],
   "source": [
    "cutoff = \"2007\"\n",
    "\n",
    "mask = X.index < cutoff\n",
    "\n",
    "X_train, y_train = X[mask], y[mask]\n",
    "X_test, y_test = X[~mask], y[~mask]"
   ]
  },
  {
   "cell_type": "markdown",
   "metadata": {},
   "source": [
    "Confirm the lengths of X_train and y_train match"
   ]
  },
  {
   "cell_type": "code",
   "execution_count": 80,
   "metadata": {
    "colab": {
     "base_uri": "https://localhost:8080/"
    },
    "id": "NGK7S1-RAlym",
    "outputId": "47ef50d0-201a-4c8f-8335-a326353475d3"
   },
   "outputs": [
    {
     "name": "stdout",
     "output_type": "stream",
     "text": [
      "(1205, 13)\n",
      "(1205,)\n"
     ]
    }
   ],
   "source": [
    "print(X_train.shape)\n",
    "print(y_train.shape)"
   ]
  },
  {
   "cell_type": "markdown",
   "metadata": {},
   "source": [
    "Confirm the lengths of X_test and y_test match"
   ]
  },
  {
   "cell_type": "code",
   "execution_count": 81,
   "metadata": {
    "colab": {
     "base_uri": "https://localhost:8080/"
    },
    "id": "QrkKHHbcAtWh",
    "outputId": "acc4f8b3-2dfb-4f57-9c51-c2fce4e7a883"
   },
   "outputs": [
    {
     "name": "stdout",
     "output_type": "stream",
     "text": [
      "(251, 13)\n",
      "(251,)\n"
     ]
    }
   ],
   "source": [
    "print(X_test.shape)\n",
    "print(y_test.shape)"
   ]
  },
  {
   "cell_type": "markdown",
   "metadata": {
    "id": "zScgajBZA6ts"
   },
   "source": [
    "## Establish baseline"
   ]
  },
  {
   "cell_type": "markdown",
   "metadata": {},
   "source": [
    "Use mean as baseline predictions"
   ]
  },
  {
   "cell_type": "code",
   "execution_count": 82,
   "metadata": {
    "id": "1xlf7O-IA5TK"
   },
   "outputs": [],
   "source": [
    "y_mean = y_train.mean()\n",
    "y_pred = [y_mean] * len(y_train)"
   ]
  },
  {
   "cell_type": "markdown",
   "metadata": {},
   "source": [
    "Calculate Baseline MAE (in same unit of measurement as target)"
   ]
  },
  {
   "cell_type": "code",
   "execution_count": 83,
   "metadata": {
    "colab": {
     "base_uri": "https://localhost:8080/"
    },
    "id": "AxYBztvsA96e",
    "outputId": "56a7b516-e4c5-4c60-9c57-77728fb9e936"
   },
   "outputs": [
    {
     "name": "stdout",
     "output_type": "stream",
     "text": [
      "Baseline MAE: 1.0791371095679734\n"
     ]
    }
   ],
   "source": [
    "baseline_mae = mean_absolute_error(y_train, y_pred)\n",
    "print(\"Baseline MAE:\", baseline_mae)"
   ]
  },
  {
   "cell_type": "markdown",
   "metadata": {
    "id": "BINQnFGNCT6H"
   },
   "source": [
    "## Build models"
   ]
  },
  {
   "cell_type": "markdown",
   "metadata": {
    "id": "mkT9GSEKKsFF"
   },
   "source": [
    "### XGBoost"
   ]
  },
  {
   "cell_type": "markdown",
   "metadata": {},
   "source": [
    "Build XGBoost Regressor pipeline"
   ]
  },
  {
   "cell_type": "code",
   "execution_count": 84,
   "metadata": {},
   "outputs": [],
   "source": [
    "model_xgb = make_pipeline(\n",
    "    SimpleImputer(),\n",
    "    XGBRegressor(random_state=42, n_estimators=75, n_jobs=-1)\n",
    ")"
   ]
  },
  {
   "cell_type": "markdown",
   "metadata": {},
   "source": [
    "Set up dictionary of hyperparameters for RandomizedSearchCV"
   ]
  },
  {
   "cell_type": "code",
   "execution_count": 86,
   "metadata": {
    "id": "f8yhrCLxEKuu"
   },
   "outputs": [],
   "source": [
    "param_grid = {\n",
    "    \"simpleimputer__strategy\": [\"mean\", \"median\"],\n",
    "    # set a range for depth between 5 and 50, increasing in increments of 5\n",
    "    \"xgbregressor__max_depth\": range(5, 50, 5),\n",
    "    # set a range for number of trees between 25 and 150, increasing in increments of 25\n",
    "    \"xgbregressor__n_estimators\": range(25, 150, 25)\n",
    "}"
   ]
  },
  {
   "cell_type": "markdown",
   "metadata": {},
   "source": [
    "Set up a hyperparameter search using RandomizedSearchCV"
   ]
  },
  {
   "cell_type": "code",
   "execution_count": 87,
   "metadata": {
    "colab": {
     "base_uri": "https://localhost:8080/"
    },
    "id": "GtXQaBgdFwXK",
    "outputId": "8ca82abf-45e5-40c5-a3c2-ffb13d4cfd74"
   },
   "outputs": [
    {
     "name": "stdout",
     "output_type": "stream",
     "text": [
      "Fitting 5 folds for each of 10 candidates, totalling 50 fits\n"
     ]
    },
    {
     "name": "stderr",
     "output_type": "stream",
     "text": [
      "/opt/anaconda3/lib/python3.9/site-packages/xgboost/compat.py:36: FutureWarning: pandas.Int64Index is deprecated and will be removed from pandas in a future version. Use pandas.Index with the appropriate dtype instead.\n",
      "  from pandas import MultiIndex, Int64Index\n",
      "/opt/anaconda3/lib/python3.9/site-packages/xgboost/compat.py:36: FutureWarning: pandas.Int64Index is deprecated and will be removed from pandas in a future version. Use pandas.Index with the appropriate dtype instead.\n",
      "  from pandas import MultiIndex, Int64Index\n",
      "/opt/anaconda3/lib/python3.9/site-packages/xgboost/compat.py:36: FutureWarning: pandas.Int64Index is deprecated and will be removed from pandas in a future version. Use pandas.Index with the appropriate dtype instead.\n",
      "  from pandas import MultiIndex, Int64Index\n",
      "/opt/anaconda3/lib/python3.9/site-packages/xgboost/compat.py:36: FutureWarning: pandas.Int64Index is deprecated and will be removed from pandas in a future version. Use pandas.Index with the appropriate dtype instead.\n",
      "  from pandas import MultiIndex, Int64Index\n",
      "/opt/anaconda3/lib/python3.9/site-packages/xgboost/compat.py:36: FutureWarning: pandas.Int64Index is deprecated and will be removed from pandas in a future version. Use pandas.Index with the appropriate dtype instead.\n",
      "  from pandas import MultiIndex, Int64Index\n",
      "/opt/anaconda3/lib/python3.9/site-packages/xgboost/compat.py:36: FutureWarning: pandas.Int64Index is deprecated and will be removed from pandas in a future version. Use pandas.Index with the appropriate dtype instead.\n",
      "  from pandas import MultiIndex, Int64Index\n",
      "/opt/anaconda3/lib/python3.9/site-packages/xgboost/compat.py:36: FutureWarning: pandas.Int64Index is deprecated and will be removed from pandas in a future version. Use pandas.Index with the appropriate dtype instead.\n",
      "  from pandas import MultiIndex, Int64Index\n",
      "/opt/anaconda3/lib/python3.9/site-packages/xgboost/compat.py:36: FutureWarning: pandas.Int64Index is deprecated and will be removed from pandas in a future version. Use pandas.Index with the appropriate dtype instead.\n",
      "  from pandas import MultiIndex, Int64Index\n"
     ]
    },
    {
     "data": {
      "text/plain": [
       "RandomizedSearchCV(cv=5,\n",
       "                   estimator=Pipeline(steps=[('simpleimputer', SimpleImputer()),\n",
       "                                             ('xgbregressor',\n",
       "                                              XGBRegressor(base_score=None,\n",
       "                                                           booster=None,\n",
       "                                                           colsample_bylevel=None,\n",
       "                                                           colsample_bynode=None,\n",
       "                                                           colsample_bytree=None,\n",
       "                                                           enable_categorical=False,\n",
       "                                                           gamma=None,\n",
       "                                                           gpu_id=None,\n",
       "                                                           importance_type=None,\n",
       "                                                           interaction_constraints=None,\n",
       "                                                           learning_rate=None,\n",
       "                                                           max_delta_step=None,\n",
       "                                                           max_...\n",
       "                                                           reg_alpha=None,\n",
       "                                                           reg_lambda=None,\n",
       "                                                           scale_pos_weight=None,\n",
       "                                                           subsample=None,\n",
       "                                                           tree_method=None,\n",
       "                                                           validate_parameters=None,\n",
       "                                                           verbosity=None))]),\n",
       "                   n_jobs=-1,\n",
       "                   param_distributions={'simpleimputer__strategy': ['mean',\n",
       "                                                                    'median'],\n",
       "                                        'xgbregressor__max_depth': range(5, 50, 5),\n",
       "                                        'xgbregressor__n_estimators': range(25, 150, 25)},\n",
       "                   random_state=42, scoring='neg_mean_absolute_error',\n",
       "                   verbose=1)"
      ]
     },
     "execution_count": 87,
     "metadata": {},
     "output_type": "execute_result"
    }
   ],
   "source": [
    "model_xgb_rs = RandomizedSearchCV(\n",
    "    model_xgb,\n",
    "    param_distributions=param_grid,\n",
    "    n_jobs=-1,\n",
    "    # number of hyperparameter candidates from param_grid to test out\n",
    "    n_iter=10,\n",
    "    # how many cross validation folds to make\n",
    "    cv=5,\n",
    "    # specifying MAE as scoring metric—sklearn requires negative MAE here\n",
    "    scoring=\"neg_mean_absolute_error\",\n",
    "    verbose=1,\n",
    "    random_state=42\n",
    ")\n",
    "\n",
    "model_xgb_rs.fit(X_train, y_train)"
   ]
  },
  {
   "cell_type": "markdown",
   "metadata": {},
   "source": [
    "Calculate training MAE and compare to baseline MAE\n",
    "\n",
    "*Model performs slightly better than baseline*"
   ]
  },
  {
   "cell_type": "code",
   "execution_count": 88,
   "metadata": {
    "colab": {
     "base_uri": "https://localhost:8080/"
    },
    "id": "Pq-JiqOdJ0xF",
    "outputId": "6e55f253-955e-4843-fc2b-6b7688b3ba85"
   },
   "outputs": [
    {
     "name": "stdout",
     "output_type": "stream",
     "text": [
      "Train MAE: 0.9592283028673417\n",
      "Baseline MAE: 1.0791371095679734\n"
     ]
    }
   ],
   "source": [
    "# take the absolute value of the negative MAE in order to compare to baseline MAE\n",
    "train_mae_xgb = abs(model_xgb_rs.best_score_) \n",
    "print(\"Train MAE:\", train_mae_xgb)\n",
    "print(\"Baseline MAE:\", baseline_mae)"
   ]
  },
  {
   "cell_type": "markdown",
   "metadata": {
    "id": "_5QtefEeKwft"
   },
   "source": [
    "### Random Forest"
   ]
  },
  {
   "cell_type": "markdown",
   "metadata": {},
   "source": [
    "Build Random Forest pipeline"
   ]
  },
  {
   "cell_type": "code",
   "execution_count": 89,
   "metadata": {
    "id": "mS9T3LnVK-1t"
   },
   "outputs": [],
   "source": [
    "model_rf = make_pipeline(\n",
    "    SimpleImputer(),\n",
    "    RandomForestRegressor(random_state=42, n_estimators=75, n_jobs=-1)\n",
    ")"
   ]
  },
  {
   "cell_type": "markdown",
   "metadata": {},
   "source": [
    "Set up dictionary of hyperparameters for RandomizedSearchCV"
   ]
  },
  {
   "cell_type": "code",
   "execution_count": 90,
   "metadata": {},
   "outputs": [],
   "source": [
    "param_grid = {\n",
    "    \"simpleimputer__strategy\": [\"mean\", \"median\"],\n",
    "    # set a range for depth between 5 and 50, increasing in increments of 5\n",
    "    \"randomforestregressor__max_depth\": range(5, 50, 5),\n",
    "    # set a range for number of trees between 25 and 150,\n",
    "    # increasing in increments of 25\n",
    "    \"randomforestregressor__n_estimators\": range(25, 150, 25)\n",
    "}"
   ]
  },
  {
   "cell_type": "markdown",
   "metadata": {},
   "source": [
    "Set up a hyperparameter search using RandomizedSearchCV"
   ]
  },
  {
   "cell_type": "code",
   "execution_count": 91,
   "metadata": {
    "colab": {
     "base_uri": "https://localhost:8080/"
    },
    "id": "hf71e4olLdB0",
    "outputId": "05328979-e1c9-4774-a5c2-414116b66bce"
   },
   "outputs": [
    {
     "name": "stdout",
     "output_type": "stream",
     "text": [
      "Fitting 5 folds for each of 10 candidates, totalling 50 fits\n"
     ]
    },
    {
     "data": {
      "text/plain": [
       "RandomizedSearchCV(cv=5,\n",
       "                   estimator=Pipeline(steps=[('simpleimputer', SimpleImputer()),\n",
       "                                             ('randomforestregressor',\n",
       "                                              RandomForestRegressor(n_estimators=75,\n",
       "                                                                    n_jobs=-1,\n",
       "                                                                    random_state=42))]),\n",
       "                   n_jobs=-1,\n",
       "                   param_distributions={'randomforestregressor__max_depth': range(5, 50, 5),\n",
       "                                        'randomforestregressor__n_estimators': range(25, 150, 25),\n",
       "                                        'simpleimputer__strategy': ['mean',\n",
       "                                                                    'median']},\n",
       "                   random_state=42, scoring='neg_mean_absolute_error',\n",
       "                   verbose=1)"
      ]
     },
     "execution_count": 91,
     "metadata": {},
     "output_type": "execute_result"
    }
   ],
   "source": [
    "model_rf_rs = RandomizedSearchCV(\n",
    "    model_rf,\n",
    "    param_distributions = param_grid,\n",
    "    n_jobs=-1,\n",
    "    # number of hyperparameter candidates from param_grid to test out\n",
    "    n_iter=10,\n",
    "    # how many cross validation folds to make\n",
    "    cv=5,\n",
    "    # specifying MAE as scoring metric—-sklearn requires negative MAE here\n",
    "    scoring=\"neg_mean_absolute_error\",\n",
    "    verbose=1,\n",
    "    random_state=42\n",
    ")\n",
    "\n",
    "model_rf_rs.fit(X_train, y_train)"
   ]
  },
  {
   "cell_type": "code",
   "execution_count": 92,
   "metadata": {
    "colab": {
     "base_uri": "https://localhost:8080/"
    },
    "id": "Ynhu54p_Mmmg",
    "outputId": "d25437fc-f59a-434d-a1e7-22522580676d"
   },
   "outputs": [
    {
     "name": "stdout",
     "output_type": "stream",
     "text": [
      "Train MAE: 0.8943385649281312\n",
      "Test MAE: 0.8810702939398753\n",
      "Baseline MAE: 1.0791371095679734\n"
     ]
    }
   ],
   "source": [
    "# take the absolute value of the negative MAE in order to compare to baseline MAE\n",
    "train_mae_rf = abs(model_rf_rs.best_score_) \n",
    "\n",
    "# predict using model, check against test\n",
    "test_mae = mean_absolute_error(y_test, model_rf_rs.predict(X_test))\n",
    "\n",
    "# print results\n",
    "print(\"Train MAE:\", train_mae_rf)\n",
    "print(\"Test MAE:\", test_mae)\n",
    "print(\"Baseline MAE:\", baseline_mae)"
   ]
  },
  {
   "cell_type": "markdown",
   "metadata": {},
   "source": [
    "Calculate training and test MAE, compare to baseline MAE\n",
    "\n",
    "*Random Forest model performs slightly better than baseline, as well as XGBoost model*\n",
    "\n",
    "*Test MAE is similar to train MAE; appears model generalizes fairly well*"
   ]
  },
  {
   "cell_type": "markdown",
   "metadata": {},
   "source": [
    "*Before dropping `precipitation_mm` and `relative_humidity_pct`*\n",
    "* *Train MAE: 0.8992027213788887*\n",
    "* *Baseline MAE: 1.0791371095679734*\n"
   ]
  },
  {
   "cell_type": "code",
   "execution_count": null,
   "metadata": {},
   "outputs": [],
   "source": [
    "# If i was returning a series of predictions, would need to transform them, as i took the log of the total_cases"
   ]
  },
  {
   "cell_type": "markdown",
   "metadata": {
    "id": "UxHvhpbuNB-8"
   },
   "source": [
    "### Communicate results"
   ]
  },
  {
   "cell_type": "markdown",
   "metadata": {},
   "source": [
    "Random Forest Feature Importance (prior to dropping `reanalysis_sat_precip_amt_mm` and `reanalysis_relative_humidity_percent`)"
   ]
  },
  {
   "cell_type": "code",
   "execution_count": 41,
   "metadata": {
    "colab": {
     "base_uri": "https://localhost:8080/",
     "height": 265
    },
    "id": "PldNPEeSND_L",
    "outputId": "c20421e8-35c0-4071-a9a6-acc7c17ffea4"
   },
   "outputs": [
    {
     "data": {
      "image/png": "[encoded data removed]",
      "text/plain": [
       "<Figure size 432x288 with 1 Axes>"
      ]
     },
     "metadata": {
      "needs_background": "light"
     },
     "output_type": "display_data"
    }
   ],
   "source": [
    "bestestimator = model_rf_rs.best_estimator_\n",
    "importances = bestestimator.named_steps[\"randomforestregressor\"].feature_importances_\n",
    "\n",
    "feature_names = X_train.columns \n",
    "feat_imp = pd.Series(data=importances, index=feature_names).sort_values()\n",
    "\n",
    "feat_imp.tail(10).plot(kind=\"barh\", color=colors[1]);"
   ]
  },
  {
   "cell_type": "markdown",
   "metadata": {},
   "source": [
    "Random Forest Permutation importance (prior to dropping `reanalysis_sat_precip_amt_mm` and `reanalysis_relative_humidity_percent`)"
   ]
  },
  {
   "cell_type": "code",
   "execution_count": 42,
   "metadata": {
    "colab": {
     "base_uri": "https://localhost:8080/",
     "height": 265
    },
    "id": "LXYaRxlMNnwt",
    "outputId": "5c7e6409-ea6c-4132-e941-b036e3d48adf"
   },
   "outputs": [
    {
     "data": {
      "image/png": "[encoded data removed]",
      "text/plain": [
       "<Figure size 432x288 with 1 Axes>"
      ]
     },
     "metadata": {
      "needs_background": "light"
     },
     "output_type": "display_data"
    }
   ],
   "source": [
    "# Calculate permutation importances\n",
    "perm_imp = permutation_importance(model_rf_rs, X_train, y_train)\n",
    "\n",
    "# create data frame with permutation importance means and stds\n",
    "data_perm = {\"imp_mean\": perm_imp[\"importances_mean\"],\n",
    "             \"imp_std\": perm_imp[\"importances_std\"]}\n",
    "\n",
    "df_perm = pd.DataFrame(data_perm, index = X_train.columns).sort_values(\"imp_mean\") # sort values by mean\n",
    "\n",
    "# Graph the permutation importance\n",
    "df_perm[\"imp_mean\"].tail(10).plot(kind=\"barh\", color=colors[1]);"
   ]
  },
  {
   "cell_type": "code",
   "execution_count": 43,
   "metadata": {
    "colab": {
     "base_uri": "https://localhost:8080/",
     "height": 457
    },
    "id": "JwFNRGvYQ5Iy",
    "outputId": "2404f9ee-8c4f-4180-9fda-dd1bf322030b"
   },
   "outputs": [
    {
     "data": {
      "text/html": [
       "<div>\n",
       "<style scoped>\n",
       "    .dataframe tbody tr th:only-of-type {\n",
       "        vertical-align: middle;\n",
       "    }\n",
       "\n",
       "    .dataframe tbody tr th {\n",
       "        vertical-align: top;\n",
       "    }\n",
       "\n",
       "    .dataframe thead th {\n",
       "        text-align: right;\n",
       "    }\n",
       "</style>\n",
       "<table border=\"1\" class=\"dataframe\">\n",
       "  <thead>\n",
       "    <tr style=\"text-align: right;\">\n",
       "      <th></th>\n",
       "      <th>imp_mean</th>\n",
       "      <th>imp_std</th>\n",
       "    </tr>\n",
       "  </thead>\n",
       "  <tbody>\n",
       "    <tr>\n",
       "      <th>max_air_temp_k</th>\n",
       "      <td>0.003873</td>\n",
       "      <td>0.000745</td>\n",
       "    </tr>\n",
       "    <tr>\n",
       "      <th>mean_air_temp_k</th>\n",
       "      <td>0.006266</td>\n",
       "      <td>0.000530</td>\n",
       "    </tr>\n",
       "    <tr>\n",
       "      <th>min_air_temp_k</th>\n",
       "      <td>0.006286</td>\n",
       "      <td>0.000605</td>\n",
       "    </tr>\n",
       "    <tr>\n",
       "      <th>ndvi_se</th>\n",
       "      <td>0.008900</td>\n",
       "      <td>0.000916</td>\n",
       "    </tr>\n",
       "    <tr>\n",
       "      <th>ndvi_sw</th>\n",
       "      <td>0.009486</td>\n",
       "      <td>0.000528</td>\n",
       "    </tr>\n",
       "    <tr>\n",
       "      <th>precipitation_mm</th>\n",
       "      <td>0.010145</td>\n",
       "      <td>0.001258</td>\n",
       "    </tr>\n",
       "    <tr>\n",
       "      <th>relative_humidity_pct</th>\n",
       "      <td>0.011241</td>\n",
       "      <td>0.001285</td>\n",
       "    </tr>\n",
       "    <tr>\n",
       "      <th>precip_amt_kg_per_m2</th>\n",
       "      <td>0.012365</td>\n",
       "      <td>0.003102</td>\n",
       "    </tr>\n",
       "    <tr>\n",
       "      <th>ndvi_ne</th>\n",
       "      <td>0.015038</td>\n",
       "      <td>0.001614</td>\n",
       "    </tr>\n",
       "    <tr>\n",
       "      <th>diurn_temp_rng_k</th>\n",
       "      <td>0.021377</td>\n",
       "      <td>0.005636</td>\n",
       "    </tr>\n",
       "    <tr>\n",
       "      <th>ndvi_nw</th>\n",
       "      <td>0.029029</td>\n",
       "      <td>0.002364</td>\n",
       "    </tr>\n",
       "    <tr>\n",
       "      <th>specific_humidity_g_per_kg</th>\n",
       "      <td>0.033740</td>\n",
       "      <td>0.003051</td>\n",
       "    </tr>\n",
       "    <tr>\n",
       "      <th>dew_point_temp_k</th>\n",
       "      <td>0.050200</td>\n",
       "      <td>0.004050</td>\n",
       "    </tr>\n",
       "    <tr>\n",
       "      <th>year_week</th>\n",
       "      <td>0.232657</td>\n",
       "      <td>0.006572</td>\n",
       "    </tr>\n",
       "    <tr>\n",
       "      <th>city</th>\n",
       "      <td>0.351782</td>\n",
       "      <td>0.028228</td>\n",
       "    </tr>\n",
       "  </tbody>\n",
       "</table>\n",
       "</div>"
      ],
      "text/plain": [
       "                            imp_mean   imp_std\n",
       "max_air_temp_k              0.003873  0.000745\n",
       "mean_air_temp_k             0.006266  0.000530\n",
       "min_air_temp_k              0.006286  0.000605\n",
       "ndvi_se                     0.008900  0.000916\n",
       "ndvi_sw                     0.009486  0.000528\n",
       "precipitation_mm            0.010145  0.001258\n",
       "relative_humidity_pct       0.011241  0.001285\n",
       "precip_amt_kg_per_m2        0.012365  0.003102\n",
       "ndvi_ne                     0.015038  0.001614\n",
       "diurn_temp_rng_k            0.021377  0.005636\n",
       "ndvi_nw                     0.029029  0.002364\n",
       "specific_humidity_g_per_kg  0.033740  0.003051\n",
       "dew_point_temp_k            0.050200  0.004050\n",
       "year_week                   0.232657  0.006572\n",
       "city                        0.351782  0.028228"
      ]
     },
     "execution_count": 43,
     "metadata": {},
     "output_type": "execute_result"
    }
   ],
   "source": [
    "df_perm"
   ]
  },
  {
   "cell_type": "markdown",
   "metadata": {},
   "source": [
    "In first pass, appeared that `precip_amt_kg_per_m2` and `precipitation_mm` were both fairly unimportant and had similar permutation/feature importances, with `precipitation_mm` being less important \n",
    "\n",
    "`specific_humidity_g_per_kg` appeared to have more importance than relative_humidity_pct\n",
    "\n",
    "Went back to wrangle function to drop `precipitation_mm` and `relative_humidity_pct`"
   ]
  },
  {
   "cell_type": "markdown",
   "metadata": {
    "id": "ez_ulO72NaWy"
   },
   "source": [
    "*I'm interested in seeing how things would change if I dropped all of the Iquitos data*"
   ]
  },
  {
   "cell_type": "markdown",
   "metadata": {
    "id": "R1xVzF_kNdy9"
   },
   "source": [
    "## Note"
   ]
  },
  {
   "cell_type": "markdown",
   "metadata": {
    "id": "D4RLw7keNmDl"
   },
   "source": [
    "\n",
    "assignment instructions:\n",
    "\n",
    "https://bloomtech.instructure.com/courses/2065/pages/advanced-assignment?module_item_id=642115"
   ]
  }
 ],
 "metadata": {
  "colab": {
   "name": "U2_S4_AdvancedAssignment_Dengue",
   "provenance": []
  },
  "kernelspec": {
   "display_name": "Python 3.9.7 ('base')",
   "language": "python",
   "name": "python3"
  },
  "language_info": {
   "codemirror_mode": {
    "name": "ipython",
    "version": 3
   },
   "file_extension": ".py",
   "mimetype": "text/x-python",
   "name": "python",
   "nbconvert_exporter": "python",
   "pygments_lexer": "ipython3",
   "version": "3.9.7"
  },
  "vscode": {
   "interpreter": {
    "hash": "40d3a090f54c6569ab1632332b64b2c03c39dcf918b08424e98f38b5ae0af88f"
   }
  }
 },
 "nbformat": 4,
 "nbformat_minor": 1
}
